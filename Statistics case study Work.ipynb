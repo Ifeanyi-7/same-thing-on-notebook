{
 "cells": [
  {
   "cell_type": "code",
   "execution_count": 2,
   "id": "fa783e20",
   "metadata": {},
   "outputs": [
    {
     "name": "stdout",
     "output_type": "stream",
     "text": [
      "Requirement already satisfied: numpy in c:\\users\\gm\\anaconda3\\lib\\site-packages (1.24.3)Note: you may need to restart the kernel to use updated packages.\n",
      "\n"
     ]
    }
   ],
   "source": [
    "pip install numpy"
   ]
  },
  {
   "cell_type": "code",
   "execution_count": 5,
   "id": "47923816",
   "metadata": {},
   "outputs": [
    {
     "name": "stdout",
     "output_type": "stream",
     "text": [
      "Requirement already satisfied: seaborn in c:\\users\\gm\\anaconda3\\lib\\site-packages (0.12.2)\n",
      "Requirement already satisfied: numpy!=1.24.0,>=1.17 in c:\\users\\gm\\anaconda3\\lib\\site-packages (from seaborn) (1.24.3)\n",
      "Requirement already satisfied: pandas>=0.25 in c:\\users\\gm\\anaconda3\\lib\\site-packages (from seaborn) (1.5.3)\n",
      "Requirement already satisfied: matplotlib!=3.6.1,>=3.1 in c:\\users\\gm\\anaconda3\\lib\\site-packages (from seaborn) (3.7.1)\n",
      "Requirement already satisfied: contourpy>=1.0.1 in c:\\users\\gm\\anaconda3\\lib\\site-packages (from matplotlib!=3.6.1,>=3.1->seaborn) (1.0.5)\n",
      "Requirement already satisfied: cycler>=0.10 in c:\\users\\gm\\anaconda3\\lib\\site-packages (from matplotlib!=3.6.1,>=3.1->seaborn) (0.11.0)\n",
      "Requirement already satisfied: fonttools>=4.22.0 in c:\\users\\gm\\anaconda3\\lib\\site-packages (from matplotlib!=3.6.1,>=3.1->seaborn) (4.25.0)\n",
      "Requirement already satisfied: kiwisolver>=1.0.1 in c:\\users\\gm\\anaconda3\\lib\\site-packages (from matplotlib!=3.6.1,>=3.1->seaborn) (1.4.4)\n",
      "Requirement already satisfied: packaging>=20.0 in c:\\users\\gm\\anaconda3\\lib\\site-packages (from matplotlib!=3.6.1,>=3.1->seaborn) (23.0)\n",
      "Requirement already satisfied: pillow>=6.2.0 in c:\\users\\gm\\anaconda3\\lib\\site-packages (from matplotlib!=3.6.1,>=3.1->seaborn) (9.4.0)\n",
      "Requirement already satisfied: pyparsing>=2.3.1 in c:\\users\\gm\\anaconda3\\lib\\site-packages (from matplotlib!=3.6.1,>=3.1->seaborn) (3.0.9)\n",
      "Requirement already satisfied: python-dateutil>=2.7 in c:\\users\\gm\\anaconda3\\lib\\site-packages (from matplotlib!=3.6.1,>=3.1->seaborn) (2.8.2)\n",
      "Requirement already satisfied: pytz>=2020.1 in c:\\users\\gm\\anaconda3\\lib\\site-packages (from pandas>=0.25->seaborn) (2022.7)\n",
      "Requirement already satisfied: six>=1.5 in c:\\users\\gm\\anaconda3\\lib\\site-packages (from python-dateutil>=2.7->matplotlib!=3.6.1,>=3.1->seaborn) (1.16.0)\n",
      "Note: you may need to restart the kernel to use updated packages.\n"
     ]
    }
   ],
   "source": [
    "pip install seaborn"
   ]
  },
  {
   "cell_type": "code",
   "execution_count": 1,
   "id": "a93fcf26",
   "metadata": {},
   "outputs": [
    {
     "name": "stdout",
     "output_type": "stream",
     "text": [
      "Requirement already satisfied: pandas in c:\\users\\gm\\anaconda3\\lib\\site-packages (1.5.3)Note: you may need to restart the kernel to use updated packages.\n",
      "\n",
      "Requirement already satisfied: python-dateutil>=2.8.1 in c:\\users\\gm\\anaconda3\\lib\\site-packages (from pandas) (2.8.2)\n",
      "Requirement already satisfied: pytz>=2020.1 in c:\\users\\gm\\anaconda3\\lib\\site-packages (from pandas) (2022.7)\n",
      "Requirement already satisfied: numpy>=1.21.0 in c:\\users\\gm\\anaconda3\\lib\\site-packages (from pandas) (1.24.3)\n",
      "Requirement already satisfied: six>=1.5 in c:\\users\\gm\\anaconda3\\lib\\site-packages (from python-dateutil>=2.8.1->pandas) (1.16.0)\n"
     ]
    }
   ],
   "source": [
    "pip install pandas"
   ]
  },
  {
   "cell_type": "code",
   "execution_count": 4,
   "id": "9bfc6043",
   "metadata": {},
   "outputs": [],
   "source": [
    "import numpy as np\n",
    "import pandas as pd\n",
    "import seaborn as sns"
   ]
  },
  {
   "cell_type": "markdown",
   "id": "eda7ee86",
   "metadata": {},
   "source": [
    "# Measure of Central Tendency\n",
    "#calculate the mean, median and mode of the following\n",
    "MCT =[5, 7, 2, 8, 5, 3, 7]"
   ]
  },
  {
   "cell_type": "code",
   "execution_count": 116,
   "id": "b4d82a5c",
   "metadata": {},
   "outputs": [],
   "source": [
    "MCT =[5, 7, 2, 8, 5, 3, 7]\n"
   ]
  },
  {
   "cell_type": "code",
   "execution_count": 8,
   "id": "57609a0f",
   "metadata": {},
   "outputs": [],
   "source": [
    "import statistics"
   ]
  },
  {
   "cell_type": "code",
   "execution_count": 10,
   "id": "d490176d",
   "metadata": {},
   "outputs": [
    {
     "name": "stdout",
     "output_type": "stream",
     "text": [
      "5.285714285714286\n"
     ]
    }
   ],
   "source": [
    "print(statistics.mean(MCT))"
   ]
  },
  {
   "cell_type": "code",
   "execution_count": 12,
   "id": "c7b95899",
   "metadata": {},
   "outputs": [
    {
     "name": "stdout",
     "output_type": "stream",
     "text": [
      "5\n"
     ]
    }
   ],
   "source": [
    "print(statistics.median(MCT))"
   ]
  },
  {
   "cell_type": "code",
   "execution_count": 14,
   "id": "aa3a7f4b",
   "metadata": {},
   "outputs": [
    {
     "name": "stdout",
     "output_type": "stream",
     "text": [
      "5\n"
     ]
    }
   ],
   "source": [
    "print(statistics.mode(MCT))"
   ]
  },
  {
   "cell_type": "code",
   "execution_count": 16,
   "id": "e28142f8",
   "metadata": {},
   "outputs": [],
   "source": [
    "#Measure of Dispersion"
   ]
  },
  {
   "cell_type": "code",
   "execution_count": 19,
   "id": "87b63c78",
   "metadata": {},
   "outputs": [
    {
     "name": "stdout",
     "output_type": "stream",
     "text": [
      "        Item\n",
      "count   5.00\n",
      "mean   18.40\n",
      "std     5.22\n",
      "min    12.00\n",
      "25%    15.00\n",
      "50%    18.00\n",
      "75%    22.00\n",
      "max    25.00\n"
     ]
    }
   ],
   "source": [
    "import pandas as pd\n",
    "MOD=(12,15,18,22,25)\n",
    "mydata=pd.DataFrame(MOD)\n",
    "summary=mydata.describe()\n",
    "summary=pd.DataFrame(summary)\n",
    "summary=round(summary,2)\n",
    "summary.columns=[\"Item\"]\n",
    "print(summary)"
   ]
  },
  {
   "cell_type": "code",
   "execution_count": 21,
   "id": "76ad9743",
   "metadata": {},
   "outputs": [
    {
     "name": "stdout",
     "output_type": "stream",
     "text": [
      "Range= 13.0\n",
      "Quartile3 22.0\n",
      "Quartile1= 15.0\n",
      "InterQuartileRange= 7.0\n"
     ]
    }
   ],
   "source": [
    "import warnings\n",
    "warnings.filterwarnings(\"ignore\")\n",
    "Range=summary.Item[7]-summary.Item[3]\n",
    "print(\"Range=\" ,Range)\n",
    "Q3=summary.Item[6]\n",
    "print(\"Quartile3\" ,Q3)\n",
    "Q1=summary.Item[4]\n",
    "print(\"Quartile1=\" ,Q1)\n",
    "IQR=Q3-Q1\n",
    "print(\"InterQuartileRange=\" , IQR)\n",
    "\n"
   ]
  },
  {
   "cell_type": "code",
   "execution_count": 24,
   "id": "de1ad64b",
   "metadata": {},
   "outputs": [],
   "source": [
    "#OUtlier Detetion\n",
    "##identifying an outlier using IQR\n",
    "\n"
   ]
  },
  {
   "cell_type": "code",
   "execution_count": 26,
   "id": "1ee72cb6",
   "metadata": {},
   "outputs": [
    {
     "data": {
      "text/plain": [
       "array([17, 18, 19, 20, 21, 22, 23, 95])"
      ]
     },
     "execution_count": 26,
     "metadata": {},
     "output_type": "execute_result"
    }
   ],
   "source": [
    "OD = [17,20, 21, 18, 95, 22, 19, 23]\n",
    "sort_OD = np.sort(OD)\n",
    "sort_OD"
   ]
  },
  {
   "cell_type": "code",
   "execution_count": 27,
   "id": "34353da0",
   "metadata": {},
   "outputs": [],
   "source": [
    "#Calculte the Q1, Q2,Q3 and IQR\n",
    "Q1 = np.percentile(OD, 25, interpolation = 'midpoint')\n",
    "Q2 = np.percentile(OD, 50, interpolation = 'midpoint')\n",
    "Q3 = np.percentile(OD, 75, interpolation = 'midpoint')\n"
   ]
  },
  {
   "cell_type": "code",
   "execution_count": 28,
   "id": "e4e4c84d",
   "metadata": {},
   "outputs": [
    {
     "name": "stdout",
     "output_type": "stream",
     "text": [
      "Q1 25 percentile of the given OD is,  18.5\n",
      "Q1 50 percentile of the given OD is,  20.5\n",
      "Q1 75 percentile of the given OD is,  22.5\n"
     ]
    }
   ],
   "source": [
    "print('Q1 25 percentile of the given OD is, ', Q1)\n",
    "print('Q1 50 percentile of the given OD is, ', Q2)\n",
    "print('Q1 75 percentile of the given OD is, ', Q3)\n"
   ]
  },
  {
   "cell_type": "code",
   "execution_count": 30,
   "id": "37ae2002",
   "metadata": {},
   "outputs": [
    {
     "name": "stdout",
     "output_type": "stream",
     "text": [
      "interquartile range is 4.0\n"
     ]
    }
   ],
   "source": [
    "IQR = Q3-Q1\n",
    "print('interquartile range is', IQR)\n"
   ]
  },
  {
   "cell_type": "code",
   "execution_count": 31,
   "id": "ef5ef146",
   "metadata": {},
   "outputs": [
    {
     "data": {
      "text/plain": [
       "4.0"
      ]
     },
     "execution_count": 31,
     "metadata": {},
     "output_type": "execute_result"
    }
   ],
   "source": [
    "# following code can also be use to calculate the IQR\n",
    "from scipy import stats\n",
    "\n",
    "IQR_with_scipy=stats.iqr(OD, interpolation = 'midpoint')\n",
    "IQR_with_scipy\n"
   ]
  },
  {
   "cell_type": "code",
   "execution_count": 33,
   "id": "4bea9002",
   "metadata": {},
   "outputs": [
    {
     "name": "stdout",
     "output_type": "stream",
     "text": [
      "low_limit is 12.5\n",
      "up_limit is 28.5\n"
     ]
    }
   ],
   "source": [
    "#Finding the lower and upper limits as Q1-1.5 IQR and Q3+1.5 IQR, respectively\n",
    "low_lim = Q1-1.5*IQR\n",
    "up_lim =Q3+1.5*IQR\n",
    "print('low_limit is', low_lim)\n",
    "print('up_limit is', up_lim)\n"
   ]
  },
  {
   "cell_type": "code",
   "execution_count": 35,
   "id": "6f2aaf30",
   "metadata": {},
   "outputs": [
    {
     "data": {
      "image/png": "[encoded data removed]",
      "text/plain": [
       "<Figure size 640x480 with 1 Axes>"
      ]
     },
     "metadata": {},
     "output_type": "display_data"
    }
   ],
   "source": [
    "sns.boxplot(OD);"
   ]
  },
  {
   "cell_type": "code",
   "execution_count": 37,
   "id": "bf8b9666",
   "metadata": {},
   "outputs": [],
   "source": [
    "#Normal Distribution and Z-Scores\n",
    "## A population has a mean of 75 and a standard deviation of 10. calculate the Z-score foe a value 85\n",
    "\n"
   ]
  },
  {
   "cell_type": "code",
   "execution_count": 39,
   "id": "87c7a508",
   "metadata": {},
   "outputs": [],
   "source": [
    "import matplotlib.pyplot as plt\n",
    "get_ipython().run_line_magic('matplotlib', 'inline')"
   ]
  },
  {
   "cell_type": "code",
   "execution_count": 95,
   "id": "a3c87d17",
   "metadata": {},
   "outputs": [],
   "source": [
    "x =np.random.normal(75,10,85)\n"
   ]
  },
  {
   "cell_type": "code",
   "execution_count": 98,
   "id": "1927eff3",
   "metadata": {},
   "outputs": [],
   "source": [
    "x ={'Data' :np.random.normal(75,10,85)}\n",
    "df =pd.DataFrame(x)\n"
   ]
  },
  {
   "cell_type": "code",
   "execution_count": 99,
   "id": "9c06eb1d",
   "metadata": {},
   "outputs": [
    {
     "name": "stdout",
     "output_type": "stream",
     "text": [
      "         Data\n",
      "0   73.819394\n",
      "1   75.665881\n",
      "2   91.398126\n",
      "3   66.727376\n",
      "4   61.600389\n",
      "..        ...\n",
      "80  72.390419\n",
      "81  72.388512\n",
      "82  59.065311\n",
      "83  63.076058\n",
      "84  76.144837\n",
      "\n",
      "[85 rows x 1 columns]\n"
     ]
    }
   ],
   "source": [
    "print(df)"
   ]
  },
  {
   "cell_type": "code",
   "execution_count": 100,
   "id": "277c5a82",
   "metadata": {},
   "outputs": [
    {
     "data": {
      "text/html": [
       "<div>\n",
       "<style scoped>\n",
       "    .dataframe tbody tr th:only-of-type {\n",
       "        vertical-align: middle;\n",
       "    }\n",
       "\n",
       "    .dataframe tbody tr th {\n",
       "        vertical-align: top;\n",
       "    }\n",
       "\n",
       "    .dataframe thead th {\n",
       "        text-align: right;\n",
       "    }\n",
       "</style>\n",
       "<table border=\"1\" class=\"dataframe\">\n",
       "  <thead>\n",
       "    <tr style=\"text-align: right;\">\n",
       "      <th></th>\n",
       "      <th>Data</th>\n",
       "    </tr>\n",
       "  </thead>\n",
       "  <tbody>\n",
       "    <tr>\n",
       "      <th>0</th>\n",
       "      <td>73.819394</td>\n",
       "    </tr>\n",
       "    <tr>\n",
       "      <th>1</th>\n",
       "      <td>75.665881</td>\n",
       "    </tr>\n",
       "    <tr>\n",
       "      <th>2</th>\n",
       "      <td>91.398126</td>\n",
       "    </tr>\n",
       "    <tr>\n",
       "      <th>3</th>\n",
       "      <td>66.727376</td>\n",
       "    </tr>\n",
       "    <tr>\n",
       "      <th>4</th>\n",
       "      <td>61.600389</td>\n",
       "    </tr>\n",
       "  </tbody>\n",
       "</table>\n",
       "</div>"
      ],
      "text/plain": [
       "        Data\n",
       "0  73.819394\n",
       "1  75.665881\n",
       "2  91.398126\n",
       "3  66.727376\n",
       "4  61.600389"
      ]
     },
     "execution_count": 100,
     "metadata": {},
     "output_type": "execute_result"
    }
   ],
   "source": [
    "df.head()"
   ]
  },
  {
   "cell_type": "code",
   "execution_count": 101,
   "id": "ed1f419f",
   "metadata": {},
   "outputs": [
    {
     "data": {
      "text/plain": [
       "Data    75.812015\n",
       "dtype: float64"
      ]
     },
     "execution_count": 101,
     "metadata": {},
     "output_type": "execute_result"
    }
   ],
   "source": [
    "df.mean()"
   ]
  },
  {
   "cell_type": "code",
   "execution_count": 103,
   "id": "2ce863e9",
   "metadata": {},
   "outputs": [
    {
     "data": {
      "text/plain": [
       "Data    10.303594\n",
       "dtype: float64"
      ]
     },
     "execution_count": 103,
     "metadata": {},
     "output_type": "execute_result"
    }
   ],
   "source": [
    "df.std()"
   ]
  },
  {
   "cell_type": "code",
   "execution_count": 104,
   "id": "bfafa556",
   "metadata": {},
   "outputs": [
    {
     "data": {
      "text/plain": [
       "Data    178.847959\n",
       "dtype: float64"
      ]
     },
     "execution_count": 104,
     "metadata": {},
     "output_type": "execute_result"
    }
   ],
   "source": [
    "upper_limit =df.mean() +10*df.std()\n",
    "upper_limit"
   ]
  },
  {
   "cell_type": "code",
   "execution_count": 106,
   "id": "20f43f60",
   "metadata": {},
   "outputs": [
    {
     "data": {
      "text/plain": [
       "Data   -27.223929\n",
       "dtype: float64"
      ]
     },
     "execution_count": 106,
     "metadata": {},
     "output_type": "execute_result"
    }
   ],
   "source": [
    "lower_limit = df.mean() -10*df.std()\n",
    "lower_limit\n"
   ]
  },
  {
   "cell_type": "code",
   "execution_count": 108,
   "id": "9fc0e466",
   "metadata": {},
   "outputs": [
    {
     "data": {
      "text/plain": [
       "Data    101.102818\n",
       "dtype: float64"
      ]
     },
     "execution_count": 108,
     "metadata": {},
     "output_type": "execute_result"
    }
   ],
   "source": [
    "df.max()"
   ]
  },
  {
   "cell_type": "code",
   "execution_count": 110,
   "id": "d23ffef3",
   "metadata": {},
   "outputs": [
    {
     "data": {
      "image/png": "[encoded data removed]",
      "text/plain": [
       "<Figure size 583.5x500 with 1 Axes>"
      ]
     },
     "metadata": {},
     "output_type": "display_data"
    }
   ],
   "source": [
    "#Using displot \n",
    "sns.displot(df, kde=True, rug=True);\n"
   ]
  },
  {
   "cell_type": "code",
   "execution_count": 112,
   "id": "8bbe1f85",
   "metadata": {},
   "outputs": [
    {
     "data": {
      "image/png": "[encoded data removed]",
      "text/plain": [
       "<Figure size 640x480 with 1 Axes>"
      ]
     },
     "metadata": {},
     "output_type": "display_data"
    }
   ],
   "source": [
    "#using Boxplot\n",
    "sns.boxplot(df);"
   ]
  },
  {
   "cell_type": "code",
   "execution_count": 114,
   "id": "25585913",
   "metadata": {},
   "outputs": [
    {
     "data": {
      "text/html": [
       "<div>\n",
       "<style scoped>\n",
       "    .dataframe tbody tr th:only-of-type {\n",
       "        vertical-align: middle;\n",
       "    }\n",
       "\n",
       "    .dataframe tbody tr th {\n",
       "        vertical-align: top;\n",
       "    }\n",
       "\n",
       "    .dataframe thead th {\n",
       "        text-align: right;\n",
       "    }\n",
       "</style>\n",
       "<table border=\"1\" class=\"dataframe\">\n",
       "  <thead>\n",
       "    <tr style=\"text-align: right;\">\n",
       "      <th></th>\n",
       "      <th>Data</th>\n",
       "    </tr>\n",
       "  </thead>\n",
       "  <tbody>\n",
       "    <tr>\n",
       "      <th>count</th>\n",
       "      <td>85.000000</td>\n",
       "    </tr>\n",
       "    <tr>\n",
       "      <th>mean</th>\n",
       "      <td>75.812015</td>\n",
       "    </tr>\n",
       "    <tr>\n",
       "      <th>std</th>\n",
       "      <td>10.303594</td>\n",
       "    </tr>\n",
       "    <tr>\n",
       "      <th>min</th>\n",
       "      <td>48.299837</td>\n",
       "    </tr>\n",
       "    <tr>\n",
       "      <th>25%</th>\n",
       "      <td>69.922245</td>\n",
       "    </tr>\n",
       "    <tr>\n",
       "      <th>50%</th>\n",
       "      <td>75.349843</td>\n",
       "    </tr>\n",
       "    <tr>\n",
       "      <th>75%</th>\n",
       "      <td>82.925632</td>\n",
       "    </tr>\n",
       "    <tr>\n",
       "      <th>max</th>\n",
       "      <td>101.102818</td>\n",
       "    </tr>\n",
       "  </tbody>\n",
       "</table>\n",
       "</div>"
      ],
      "text/plain": [
       "             Data\n",
       "count   85.000000\n",
       "mean    75.812015\n",
       "std     10.303594\n",
       "min     48.299837\n",
       "25%     69.922245\n",
       "50%     75.349843\n",
       "75%     82.925632\n",
       "max    101.102818"
      ]
     },
     "execution_count": 114,
     "metadata": {},
     "output_type": "execute_result"
    }
   ],
   "source": [
    "df.describe()"
   ]
  },
  {
   "cell_type": "code",
   "execution_count": 117,
   "id": "2594236b",
   "metadata": {},
   "outputs": [
    {
     "data": {
      "text/plain": [
       "(85, 1)"
      ]
     },
     "execution_count": 117,
     "metadata": {},
     "output_type": "execute_result"
    }
   ],
   "source": [
    "# The Z_SCORE FOR 85 VALUE\n",
    "df_no_outlier_std_dev =df[(df<upper_limit) & (df>lower_limit)]\n",
    "df_no_outlier_std_dev.shape\n"
   ]
  },
  {
   "cell_type": "code",
   "execution_count": 118,
   "id": "2d69983d",
   "metadata": {},
   "outputs": [],
   "source": [
    "#Covarian and correlation\n",
    "##calculate the covarian and  correlation coefficient between two variable x a nd y with the following data\n",
    "x :[15, 20, 25, 30, 35]\n",
    "y: [10, 18, 22, 28, 40]"
   ]
  },
  {
   "cell_type": "code",
   "execution_count": 123,
   "id": "5620147d",
   "metadata": {},
   "outputs": [
    {
     "name": "stdout",
     "output_type": "stream",
     "text": [
      "   1st Data\n",
      "0        15\n",
      "1        20\n",
      "2        25\n",
      "3        30\n",
      "4        35\n"
     ]
    }
   ],
   "source": [
    "xs ={'1st Data': [15, 20, 25, 30, 35]}\n",
    "XS = pd.DataFrame(xs)\n",
    "print(XS)"
   ]
  },
  {
   "cell_type": "code",
   "execution_count": 128,
   "id": "4bef586d",
   "metadata": {},
   "outputs": [
    {
     "name": "stdout",
     "output_type": "stream",
     "text": [
      "   2nd Data\n",
      "0        10\n",
      "1        18\n",
      "2        22\n",
      "3        28\n",
      "4        40\n"
     ]
    }
   ],
   "source": [
    "YS = {'2nd Data': [10, 18, 22, 28, 40]}\n",
    "YS = pd.DataFrame(YS)\n",
    "print(YS)"
   ]
  },
  {
   "cell_type": "code",
   "execution_count": 131,
   "id": "88cb07b5",
   "metadata": {},
   "outputs": [
    {
     "data": {
      "text/html": [
       "<div>\n",
       "<style scoped>\n",
       "    .dataframe tbody tr th:only-of-type {\n",
       "        vertical-align: middle;\n",
       "    }\n",
       "\n",
       "    .dataframe tbody tr th {\n",
       "        vertical-align: top;\n",
       "    }\n",
       "\n",
       "    .dataframe thead th {\n",
       "        text-align: right;\n",
       "    }\n",
       "</style>\n",
       "<table border=\"1\" class=\"dataframe\">\n",
       "  <thead>\n",
       "    <tr style=\"text-align: right;\">\n",
       "      <th></th>\n",
       "      <th>1st Data</th>\n",
       "    </tr>\n",
       "  </thead>\n",
       "  <tbody>\n",
       "    <tr>\n",
       "      <th>1st Data</th>\n",
       "      <td>1.0</td>\n",
       "    </tr>\n",
       "  </tbody>\n",
       "</table>\n",
       "</div>"
      ],
      "text/plain": [
       "          1st Data\n",
       "1st Data       1.0"
      ]
     },
     "execution_count": 131,
     "metadata": {},
     "output_type": "execute_result"
    }
   ],
   "source": [
    "XS.corr()"
   ]
  },
  {
   "cell_type": "code",
   "execution_count": 133,
   "id": "0192d983",
   "metadata": {},
   "outputs": [
    {
     "data": {
      "text/html": [
       "<div>\n",
       "<style scoped>\n",
       "    .dataframe tbody tr th:only-of-type {\n",
       "        vertical-align: middle;\n",
       "    }\n",
       "\n",
       "    .dataframe tbody tr th {\n",
       "        vertical-align: top;\n",
       "    }\n",
       "\n",
       "    .dataframe thead th {\n",
       "        text-align: right;\n",
       "    }\n",
       "</style>\n",
       "<table border=\"1\" class=\"dataframe\">\n",
       "  <thead>\n",
       "    <tr style=\"text-align: right;\">\n",
       "      <th></th>\n",
       "      <th>2nd Data</th>\n",
       "    </tr>\n",
       "  </thead>\n",
       "  <tbody>\n",
       "    <tr>\n",
       "      <th>2nd Data</th>\n",
       "      <td>1.0</td>\n",
       "    </tr>\n",
       "  </tbody>\n",
       "</table>\n",
       "</div>"
      ],
      "text/plain": [
       "          2nd Data\n",
       "2nd Data       1.0"
      ]
     },
     "execution_count": 133,
     "metadata": {},
     "output_type": "execute_result"
    }
   ],
   "source": [
    "YS.corr()"
   ]
  },
  {
   "cell_type": "code",
   "execution_count": 135,
   "id": "29978394",
   "metadata": {},
   "outputs": [
    {
     "data": {
      "text/plain": [
       "(   1st Data\n",
       " 0        15\n",
       " 1        20\n",
       " 2        25\n",
       " 3        30\n",
       " 4        35,\n",
       "           2nd Data\n",
       " 2nd Data       1.0)"
      ]
     },
     "execution_count": 135,
     "metadata": {},
     "output_type": "execute_result"
    }
   ],
   "source": [
    "XS,YS.corr()"
   ]
  },
  {
   "cell_type": "code",
   "execution_count": 207,
   "id": "ffbda024",
   "metadata": {
    "scrolled": true
   },
   "outputs": [
    {
     "data": {
      "text/plain": [
       "(   2nd Data\n",
       " 0        10\n",
       " 1        18\n",
       " 2        22\n",
       " 3        28\n",
       " 4        40,\n",
       "           1st Data\n",
       " 1st Data       1.0)"
      ]
     },
     "execution_count": 207,
     "metadata": {},
     "output_type": "execute_result"
    }
   ],
   "source": [
    "YS,XS.corr()"
   ]
  },
  {
   "cell_type": "code",
   "execution_count": 197,
   "id": "421fca61",
   "metadata": {},
   "outputs": [
    {
     "data": {
      "text/plain": [
       "PearsonRResult(statistic=0.9828979235280283, pvalue=0.002677872406180958)"
      ]
     },
     "execution_count": 197,
     "metadata": {},
     "output_type": "execute_result"
    }
   ],
   "source": [
    "pearsonr(XS['1st Data'], y =YS ['2nd Data'])"
   ]
  },
  {
   "cell_type": "code",
   "execution_count": 208,
   "id": "d8b1d091",
   "metadata": {},
   "outputs": [
    {
     "data": {
      "image/png": "[encoded data removed]",
      "text/plain": [
       "<Figure size 640x480 with 1 Axes>"
      ]
     },
     "metadata": {},
     "output_type": "display_data"
    }
   ],
   "source": [
    "sns.rugplot(x = XS[\"1st Data\"], y= YS[\"2nd Data\"], color='red')\n",
    "plt.show()"
   ]
  },
  {
   "cell_type": "code",
   "execution_count": 211,
   "id": "3dbc9fbf",
   "metadata": {},
   "outputs": [
    {
     "data": {
      "image/png": "[encoded data removed]",
      "text/plain": [
       "<Figure size 640x480 with 1 Axes>"
      ]
     },
     "metadata": {},
     "output_type": "display_data"
    }
   ],
   "source": [
    "sns.regplot(x = XS[\"1st Data\"], y= YS[\"2nd Data\"], color='blue')\n",
    "plt.show()"
   ]
  },
  {
   "cell_type": "code",
   "execution_count": 214,
   "id": "418766a2",
   "metadata": {},
   "outputs": [
    {
     "data": {
      "image/png": "[encoded data removed]",
      "text/plain": [
       "<Figure size 640x480 with 1 Axes>"
      ]
     },
     "metadata": {},
     "output_type": "display_data"
    }
   ],
   "source": [
    "sns.scatterplot(x = XS[\"1st Data\"], y= YS[\"2nd Data\"], color='red')\n",
    "plt.title('The Correlation ')\n",
    "plt.show()"
   ]
  },
  {
   "cell_type": "code",
   "execution_count": null,
   "id": "59464061",
   "metadata": {},
   "outputs": [],
   "source": [
    "## THANK YOU JUPITA ACADEMY!"
   ]
  }
 ],
 "metadata": {
  "kernelspec": {
   "display_name": "Python 3 (ipykernel)",
   "language": "python",
   "name": "python3"
  },
  "language_info": {
   "codemirror_mode": {
    "name": "ipython",
    "version": 3
   },
   "file_extension": ".py",
   "mimetype": "text/x-python",
   "name": "python",
   "nbconvert_exporter": "python",
   "pygments_lexer": "ipython3",
   "version": "3.11.4"
  }
 },
 "nbformat": 4,
 "nbformat_minor": 5
}
